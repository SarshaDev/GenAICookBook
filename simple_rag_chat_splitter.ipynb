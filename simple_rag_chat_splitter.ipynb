{
  "nbformat": 4,
  "nbformat_minor": 0,
  "metadata": {
    "colab": {
      "provenance": [],
      "toc_visible": true,
      "authorship_tag": "ABX9TyODaiDbcpkq+MVRvCD33S0U",
      "include_colab_link": true
    },
    "kernelspec": {
      "name": "python3",
      "display_name": "Python 3"
    },
    "language_info": {
      "name": "python"
    }
  },
  "cells": [
    {
      "cell_type": "markdown",
      "metadata": {
        "id": "view-in-github",
        "colab_type": "text"
      },
      "source": [
        "<a href=\"https://colab.research.google.com/github/SarshaDev/GenAICookBooks/blob/main/simple_rag_chat_splitter.ipynb\" target=\"_parent\"><img src=\"https://colab.research.google.com/assets/colab-badge.svg\" alt=\"Open In Colab\"/></a>"
      ]
    },
    {
      "cell_type": "code",
      "execution_count": 4,
      "metadata": {
        "colab": {
          "base_uri": "https://localhost:8080/"
        },
        "id": "G6PSRPZyP9mH",
        "outputId": "7640fc78-c8a9-45f4-d558-3dfc70bfa70b"
      },
      "outputs": [
        {
          "output_type": "stream",
          "name": "stdout",
          "text": [
            "Requirement already satisfied: langchain-openai in /usr/local/lib/python3.12/dist-packages (0.3.33)\n",
            "Requirement already satisfied: deeplake in /usr/local/lib/python3.12/dist-packages (3.9.52)\n",
            "Requirement already satisfied: tiktoken in /usr/local/lib/python3.12/dist-packages (0.11.0)\n",
            "Requirement already satisfied: langchain-community in /usr/local/lib/python3.12/dist-packages (0.3.29)\n",
            "Requirement already satisfied: langchain-core<1.0.0,>=0.3.76 in /usr/local/lib/python3.12/dist-packages (from langchain-openai) (0.3.76)\n",
            "Requirement already satisfied: openai<2.0.0,>=1.104.2 in /usr/local/lib/python3.12/dist-packages (from langchain-openai) (1.106.1)\n",
            "Requirement already satisfied: numpy in /usr/local/lib/python3.12/dist-packages (from deeplake) (2.0.2)\n",
            "Requirement already satisfied: pillow~=10.4.0 in /usr/local/lib/python3.12/dist-packages (from deeplake) (10.4.0)\n",
            "Requirement already satisfied: boto3 in /usr/local/lib/python3.12/dist-packages (from deeplake) (1.39.11)\n",
            "Requirement already satisfied: click in /usr/local/lib/python3.12/dist-packages (from deeplake) (8.2.1)\n",
            "Requirement already satisfied: six~=1.16.0 in /usr/local/lib/python3.12/dist-packages (from deeplake) (1.16.0)\n",
            "Requirement already satisfied: pathos in /usr/local/lib/python3.12/dist-packages (from deeplake) (0.3.4)\n",
            "Requirement already satisfied: humbug>=0.3.1 in /usr/local/lib/python3.12/dist-packages (from deeplake) (0.3.2)\n",
            "Requirement already satisfied: tqdm in /usr/local/lib/python3.12/dist-packages (from deeplake) (4.67.1)\n",
            "Requirement already satisfied: lz4 in /usr/local/lib/python3.12/dist-packages (from deeplake) (4.4.4)\n",
            "Requirement already satisfied: pyjwt in /usr/local/lib/python3.12/dist-packages (from deeplake) (2.10.1)\n",
            "Requirement already satisfied: aioboto3>=10.4.0 in /usr/local/lib/python3.12/dist-packages (from deeplake) (15.1.0)\n",
            "Requirement already satisfied: nest_asyncio in /usr/local/lib/python3.12/dist-packages (from deeplake) (1.6.0)\n",
            "Requirement already satisfied: pydantic in /usr/local/lib/python3.12/dist-packages (from deeplake) (2.11.7)\n",
            "Requirement already satisfied: regex>=2022.1.18 in /usr/local/lib/python3.12/dist-packages (from tiktoken) (2024.11.6)\n",
            "Requirement already satisfied: requests>=2.26.0 in /usr/local/lib/python3.12/dist-packages (from tiktoken) (2.32.5)\n",
            "Requirement already satisfied: langchain<2.0.0,>=0.3.27 in /usr/local/lib/python3.12/dist-packages (from langchain-community) (0.3.27)\n",
            "Requirement already satisfied: SQLAlchemy<3,>=1.4 in /usr/local/lib/python3.12/dist-packages (from langchain-community) (2.0.43)\n",
            "Requirement already satisfied: PyYAML>=5.3 in /usr/local/lib/python3.12/dist-packages (from langchain-community) (6.0.2)\n",
            "Requirement already satisfied: aiohttp<4.0.0,>=3.8.3 in /usr/local/lib/python3.12/dist-packages (from langchain-community) (3.12.15)\n",
            "Requirement already satisfied: tenacity!=8.4.0,<10,>=8.1.0 in /usr/local/lib/python3.12/dist-packages (from langchain-community) (8.5.0)\n",
            "Requirement already satisfied: dataclasses-json<0.7,>=0.6.7 in /usr/local/lib/python3.12/dist-packages (from langchain-community) (0.6.7)\n",
            "Requirement already satisfied: pydantic-settings<3.0.0,>=2.10.1 in /usr/local/lib/python3.12/dist-packages (from langchain-community) (2.10.1)\n",
            "Requirement already satisfied: langsmith>=0.1.125 in /usr/local/lib/python3.12/dist-packages (from langchain-community) (0.4.24)\n",
            "Requirement already satisfied: httpx-sse<1.0.0,>=0.4.0 in /usr/local/lib/python3.12/dist-packages (from langchain-community) (0.4.1)\n",
            "\u001b[33mWARNING: deeplake 3.9.52 does not provide the extra 'enterprise'\u001b[0m\u001b[33m\n",
            "\u001b[0mRequirement already satisfied: aiobotocore==2.24.0 in /usr/local/lib/python3.12/dist-packages (from aiobotocore[boto3]==2.24.0->aioboto3>=10.4.0->deeplake) (2.24.0)\n",
            "Requirement already satisfied: aiofiles>=23.2.1 in /usr/local/lib/python3.12/dist-packages (from aioboto3>=10.4.0->deeplake) (24.1.0)\n",
            "Requirement already satisfied: aioitertools<1.0.0,>=0.5.1 in /usr/local/lib/python3.12/dist-packages (from aiobotocore==2.24.0->aiobotocore[boto3]==2.24.0->aioboto3>=10.4.0->deeplake) (0.12.0)\n",
            "Requirement already satisfied: botocore<1.39.12,>=1.39.9 in /usr/local/lib/python3.12/dist-packages (from aiobotocore==2.24.0->aiobotocore[boto3]==2.24.0->aioboto3>=10.4.0->deeplake) (1.39.11)\n",
            "Requirement already satisfied: python-dateutil<3.0.0,>=2.1 in /usr/local/lib/python3.12/dist-packages (from aiobotocore==2.24.0->aiobotocore[boto3]==2.24.0->aioboto3>=10.4.0->deeplake) (2.9.0.post0)\n",
            "Requirement already satisfied: jmespath<2.0.0,>=0.7.1 in /usr/local/lib/python3.12/dist-packages (from aiobotocore==2.24.0->aiobotocore[boto3]==2.24.0->aioboto3>=10.4.0->deeplake) (1.0.1)\n",
            "Requirement already satisfied: multidict<7.0.0,>=6.0.0 in /usr/local/lib/python3.12/dist-packages (from aiobotocore==2.24.0->aiobotocore[boto3]==2.24.0->aioboto3>=10.4.0->deeplake) (6.6.4)\n",
            "Requirement already satisfied: wrapt<2.0.0,>=1.10.10 in /usr/local/lib/python3.12/dist-packages (from aiobotocore==2.24.0->aiobotocore[boto3]==2.24.0->aioboto3>=10.4.0->deeplake) (1.17.3)\n",
            "Requirement already satisfied: aiohappyeyeballs>=2.5.0 in /usr/local/lib/python3.12/dist-packages (from aiohttp<4.0.0,>=3.8.3->langchain-community) (2.6.1)\n",
            "Requirement already satisfied: aiosignal>=1.4.0 in /usr/local/lib/python3.12/dist-packages (from aiohttp<4.0.0,>=3.8.3->langchain-community) (1.4.0)\n",
            "Requirement already satisfied: attrs>=17.3.0 in /usr/local/lib/python3.12/dist-packages (from aiohttp<4.0.0,>=3.8.3->langchain-community) (25.3.0)\n",
            "Requirement already satisfied: frozenlist>=1.1.1 in /usr/local/lib/python3.12/dist-packages (from aiohttp<4.0.0,>=3.8.3->langchain-community) (1.7.0)\n",
            "Requirement already satisfied: propcache>=0.2.0 in /usr/local/lib/python3.12/dist-packages (from aiohttp<4.0.0,>=3.8.3->langchain-community) (0.3.2)\n",
            "Requirement already satisfied: yarl<2.0,>=1.17.0 in /usr/local/lib/python3.12/dist-packages (from aiohttp<4.0.0,>=3.8.3->langchain-community) (1.20.1)\n",
            "Requirement already satisfied: s3transfer<0.14.0,>=0.13.0 in /usr/local/lib/python3.12/dist-packages (from boto3->deeplake) (0.13.1)\n",
            "Requirement already satisfied: marshmallow<4.0.0,>=3.18.0 in /usr/local/lib/python3.12/dist-packages (from dataclasses-json<0.7,>=0.6.7->langchain-community) (3.26.1)\n",
            "Requirement already satisfied: typing-inspect<1,>=0.4.0 in /usr/local/lib/python3.12/dist-packages (from dataclasses-json<0.7,>=0.6.7->langchain-community) (0.9.0)\n",
            "Requirement already satisfied: langchain-text-splitters<1.0.0,>=0.3.9 in /usr/local/lib/python3.12/dist-packages (from langchain<2.0.0,>=0.3.27->langchain-community) (0.3.11)\n",
            "Requirement already satisfied: jsonpatch<2.0,>=1.33 in /usr/local/lib/python3.12/dist-packages (from langchain-core<1.0.0,>=0.3.76->langchain-openai) (1.33)\n",
            "Requirement already satisfied: typing-extensions>=4.7 in /usr/local/lib/python3.12/dist-packages (from langchain-core<1.0.0,>=0.3.76->langchain-openai) (4.15.0)\n",
            "Requirement already satisfied: packaging>=23.2 in /usr/local/lib/python3.12/dist-packages (from langchain-core<1.0.0,>=0.3.76->langchain-openai) (25.0)\n",
            "Requirement already satisfied: httpx<1,>=0.23.0 in /usr/local/lib/python3.12/dist-packages (from langsmith>=0.1.125->langchain-community) (0.28.1)\n",
            "Requirement already satisfied: orjson>=3.9.14 in /usr/local/lib/python3.12/dist-packages (from langsmith>=0.1.125->langchain-community) (3.11.3)\n",
            "Requirement already satisfied: requests-toolbelt>=1.0.0 in /usr/local/lib/python3.12/dist-packages (from langsmith>=0.1.125->langchain-community) (1.0.0)\n",
            "Requirement already satisfied: zstandard>=0.23.0 in /usr/local/lib/python3.12/dist-packages (from langsmith>=0.1.125->langchain-community) (0.24.0)\n",
            "Requirement already satisfied: anyio<5,>=3.5.0 in /usr/local/lib/python3.12/dist-packages (from openai<2.0.0,>=1.104.2->langchain-openai) (4.10.0)\n",
            "Requirement already satisfied: distro<2,>=1.7.0 in /usr/local/lib/python3.12/dist-packages (from openai<2.0.0,>=1.104.2->langchain-openai) (1.9.0)\n",
            "Requirement already satisfied: jiter<1,>=0.4.0 in /usr/local/lib/python3.12/dist-packages (from openai<2.0.0,>=1.104.2->langchain-openai) (0.10.0)\n",
            "Requirement already satisfied: sniffio in /usr/local/lib/python3.12/dist-packages (from openai<2.0.0,>=1.104.2->langchain-openai) (1.3.1)\n",
            "Requirement already satisfied: annotated-types>=0.6.0 in /usr/local/lib/python3.12/dist-packages (from pydantic->deeplake) (0.7.0)\n",
            "Requirement already satisfied: pydantic-core==2.33.2 in /usr/local/lib/python3.12/dist-packages (from pydantic->deeplake) (2.33.2)\n",
            "Requirement already satisfied: typing-inspection>=0.4.0 in /usr/local/lib/python3.12/dist-packages (from pydantic->deeplake) (0.4.1)\n",
            "Requirement already satisfied: python-dotenv>=0.21.0 in /usr/local/lib/python3.12/dist-packages (from pydantic-settings<3.0.0,>=2.10.1->langchain-community) (1.1.1)\n",
            "Requirement already satisfied: charset_normalizer<4,>=2 in /usr/local/lib/python3.12/dist-packages (from requests>=2.26.0->tiktoken) (3.4.3)\n",
            "Requirement already satisfied: idna<4,>=2.5 in /usr/local/lib/python3.12/dist-packages (from requests>=2.26.0->tiktoken) (3.10)\n",
            "Requirement already satisfied: urllib3<3,>=1.21.1 in /usr/local/lib/python3.12/dist-packages (from requests>=2.26.0->tiktoken) (2.5.0)\n",
            "Requirement already satisfied: certifi>=2017.4.17 in /usr/local/lib/python3.12/dist-packages (from requests>=2.26.0->tiktoken) (2025.8.3)\n",
            "Requirement already satisfied: greenlet>=1 in /usr/local/lib/python3.12/dist-packages (from SQLAlchemy<3,>=1.4->langchain-community) (3.2.4)\n",
            "Requirement already satisfied: ppft>=1.7.7 in /usr/local/lib/python3.12/dist-packages (from pathos->deeplake) (1.7.7)\n",
            "Requirement already satisfied: dill>=0.4.0 in /usr/local/lib/python3.12/dist-packages (from pathos->deeplake) (0.4.0)\n",
            "Requirement already satisfied: pox>=0.3.6 in /usr/local/lib/python3.12/dist-packages (from pathos->deeplake) (0.3.6)\n",
            "Requirement already satisfied: multiprocess>=0.70.18 in /usr/local/lib/python3.12/dist-packages (from pathos->deeplake) (0.70.18)\n",
            "Requirement already satisfied: httpcore==1.* in /usr/local/lib/python3.12/dist-packages (from httpx<1,>=0.23.0->langsmith>=0.1.125->langchain-community) (1.0.9)\n",
            "Requirement already satisfied: h11>=0.16 in /usr/local/lib/python3.12/dist-packages (from httpcore==1.*->httpx<1,>=0.23.0->langsmith>=0.1.125->langchain-community) (0.16.0)\n",
            "Requirement already satisfied: jsonpointer>=1.9 in /usr/local/lib/python3.12/dist-packages (from jsonpatch<2.0,>=1.33->langchain-core<1.0.0,>=0.3.76->langchain-openai) (3.0.0)\n",
            "Requirement already satisfied: mypy-extensions>=0.3.0 in /usr/local/lib/python3.12/dist-packages (from typing-inspect<1,>=0.4.0->dataclasses-json<0.7,>=0.6.7->langchain-community) (1.1.0)\n"
          ]
        }
      ],
      "source": [
        "! pip install langchain-openai deeplake tiktoken langchain-community \"deeplake[enterprise]<4.0.0\""
      ]
    },
    {
      "cell_type": "markdown",
      "source": [
        " **from langchain.document_loaders import TextLoader**  - Use it to load Text data from disk file\n",
        "\n",
        "** from langchain.schema import Document** - use it to load text data from a string\n",
        "\n",
        "***output of TextLoader class is Document Type***"
      ],
      "metadata": {
        "id": "Rb_6O_ihSzsV"
      }
    },
    {
      "cell_type": "code",
      "source": [
        "Text = \"\"\"\n",
        "Kohli was born on 5 November 1988 in Delhi into a Punjabi Hindu family. His mother Saroj Kohli is as a housewife while his father Prem Nath Kohli worked as a criminal lawyer. He has an elder brother Vikas and an elder sister Bhawna. His formative years were spent in Uttam Nagar. His early education was at Vishal Bharti Public School.[4] As per his family, Kohli exhibited an early affinity for cricket as a 3-year-old. He would pick up a bat and request his father bowl to him.[5] In 1998, the West Delhi Cricket Academy was created. In May, his father arranged for him to meet Rajkumar Sharma.[6] Upon the suggestion of their neighbours, Kohli's father considered enrolling his son in a professional cricket academy, as they believed his ability merited more than gully cricket.[7] He was unable to secure a place in the U-14 Delhi team, due to extraneous factors. His father reportedly received offers to relocate his son to influential clubs, which would ensure his selection, but he declined the proposals. Kohli eventually found his way into the U-15 team.[8] He received training at the academy and participated in matches at the Sumeet Dogra Academy located at Vasundhara Enclave.[9] In pursuit of furthering his cricketing career, he transferred to Saviour Convent School during his ninth-grade education.[7] On 18 December 2006, his father died due to a cerebral attack.[10] As per his mother, Kohli's demeanour shifted noticeably after his father's death. He took on cricket with newfound seriousness, prioritizing playing time and dedicating himself fully to the sport.[7] Kohli's family resided in Meera Bagh, Paschim Vihar until the year 2015, after which they relocated to Gurgaon.[11]\n",
        "\"\"\""
      ],
      "metadata": {
        "id": "xytd1QOwQqZp"
      },
      "execution_count": 5,
      "outputs": []
    },
    {
      "cell_type": "code",
      "source": [
        "from langchain.schema import Document"
      ],
      "metadata": {
        "id": "p1i7V43iTUzg"
      },
      "execution_count": 6,
      "outputs": []
    },
    {
      "cell_type": "code",
      "source": [
        "docs = [Document(page_content=Text)]\n",
        "len(docs[0].page_content)"
      ],
      "metadata": {
        "colab": {
          "base_uri": "https://localhost:8080/"
        },
        "id": "q_8Q2wmrURrv",
        "outputId": "ce3a4f4e-969b-4c67-a155-a2928c5cb12c"
      },
      "execution_count": 7,
      "outputs": [
        {
          "output_type": "execute_result",
          "data": {
            "text/plain": [
              "1703"
            ]
          },
          "metadata": {},
          "execution_count": 7
        }
      ]
    },
    {
      "cell_type": "code",
      "source": [
        "from langchain.text_splitter import CharacterTextSplitter"
      ],
      "metadata": {
        "id": "JLcBtvuATb1Y"
      },
      "execution_count": 8,
      "outputs": []
    },
    {
      "cell_type": "code",
      "source": [
        "chars_splitter = CharacterTextSplitter(chunk_size=200, chunk_overlap=20)"
      ],
      "metadata": {
        "id": "jRuT3Sd2ULaf"
      },
      "execution_count": 9,
      "outputs": []
    },
    {
      "cell_type": "code",
      "source": [
        "doc_chunks = chars_splitter.split_documents(docs)"
      ],
      "metadata": {
        "id": "1fML_JbYUoUV"
      },
      "execution_count": 10,
      "outputs": []
    },
    {
      "cell_type": "code",
      "source": [
        "print(len(doc_chunks)), print(doc_chunks[0])"
      ],
      "metadata": {
        "colab": {
          "base_uri": "https://localhost:8080/"
        },
        "id": "72hydOfIVK1d",
        "outputId": "2ffc3ad9-ffcc-4504-ed91-1e04915888e2"
      },
      "execution_count": 11,
      "outputs": [
        {
          "output_type": "stream",
          "name": "stdout",
          "text": [
            "1\n",
            "page_content='Kohli was born on 5 November 1988 in Delhi into a Punjabi Hindu family. His mother Saroj Kohli is as a housewife while his father Prem Nath Kohli worked as a criminal lawyer. He has an elder brother Vikas and an elder sister Bhawna. His formative years were spent in Uttam Nagar. His early education was at Vishal Bharti Public School.[4] As per his family, Kohli exhibited an early affinity for cricket as a 3-year-old. He would pick up a bat and request his father bowl to him.[5] In 1998, the West Delhi Cricket Academy was created. In May, his father arranged for him to meet Rajkumar Sharma.[6] Upon the suggestion of their neighbours, Kohli's father considered enrolling his son in a professional cricket academy, as they believed his ability merited more than gully cricket.[7] He was unable to secure a place in the U-14 Delhi team, due to extraneous factors. His father reportedly received offers to relocate his son to influential clubs, which would ensure his selection, but he declined the proposals. Kohli eventually found his way into the U-15 team.[8] He received training at the academy and participated in matches at the Sumeet Dogra Academy located at Vasundhara Enclave.[9] In pursuit of furthering his cricketing career, he transferred to Saviour Convent School during his ninth-grade education.[7] On 18 December 2006, his father died due to a cerebral attack.[10] As per his mother, Kohli's demeanour shifted noticeably after his father's death. He took on cricket with newfound seriousness, prioritizing playing time and dedicating himself fully to the sport.[7] Kohli's family resided in Meera Bagh, Paschim Vihar until the year 2015, after which they relocated to Gurgaon.[11]'\n"
          ]
        },
        {
          "output_type": "execute_result",
          "data": {
            "text/plain": [
              "(None, None)"
            ]
          },
          "metadata": {},
          "execution_count": 11
        }
      ]
    },
    {
      "cell_type": "markdown",
      "source": [
        "We got 1 chunk because **CharacterTextSplitter** splits only at its separator (default is \"\\n\\n\").\n",
        "Here text is basically one long paragraph (no double newlines), so the splitter sees a single piece and won’t break it further—even if it’s longer than chunk_size. Result: one big chunk."
      ],
      "metadata": {
        "id": "fCkQT-HwXGyG"
      }
    },
    {
      "cell_type": "markdown",
      "source": [
        "The better way for most real-world cases is to use ***RecursiveCharacterTextSplitter***\n",
        "\n",
        "\n",
        "\n",
        "1.   It tries [\"\\n\\n\", \"\\n\", \" \", \"\"] in order and will fall back to character-level splitting\n",
        "2.   Handles text with inconsistent formatting\n",
        "3. Works well with Chunk Overlap\n",
        "\n"
      ],
      "metadata": {
        "id": "tz7meDcQXPMn"
      }
    },
    {
      "cell_type": "code",
      "source": [
        "from langchain.text_splitter import RecursiveCharacterTextSplitter"
      ],
      "metadata": {
        "id": "CpO9AnvhVpbb"
      },
      "execution_count": 12,
      "outputs": []
    },
    {
      "cell_type": "code",
      "source": [
        "rec_chars_splitter = RecursiveCharacterTextSplitter(chunk_size=200, chunk_overlap=20)"
      ],
      "metadata": {
        "id": "SjbVgB7IXmMy"
      },
      "execution_count": 13,
      "outputs": []
    },
    {
      "cell_type": "code",
      "source": [
        "doc_rec_split = rec_chars_splitter.split_documents(docs)\n",
        "len(doc_rec_split)"
      ],
      "metadata": {
        "colab": {
          "base_uri": "https://localhost:8080/"
        },
        "id": "vkWTkFgbXx6f",
        "outputId": "47ecac41-9cac-4129-e7e9-e34cc3119be9"
      },
      "execution_count": 14,
      "outputs": [
        {
          "output_type": "execute_result",
          "data": {
            "text/plain": [
              "10"
            ]
          },
          "metadata": {},
          "execution_count": 14
        }
      ]
    },
    {
      "cell_type": "code",
      "source": [
        "for each in doc_rec_split:\n",
        "  print(each)"
      ],
      "metadata": {
        "colab": {
          "base_uri": "https://localhost:8080/"
        },
        "id": "bo5wfq5aX1LI",
        "outputId": "94126a82-a0d1-4f47-923e-6feeaa8e8793"
      },
      "execution_count": 15,
      "outputs": [
        {
          "output_type": "stream",
          "name": "stdout",
          "text": [
            "page_content='Kohli was born on 5 November 1988 in Delhi into a Punjabi Hindu family. His mother Saroj Kohli is as a housewife while his father Prem Nath Kohli worked as a criminal lawyer. He has an elder brother'\n",
            "page_content='an elder brother Vikas and an elder sister Bhawna. His formative years were spent in Uttam Nagar. His early education was at Vishal Bharti Public School.[4] As per his family, Kohli exhibited an'\n",
            "page_content='Kohli exhibited an early affinity for cricket as a 3-year-old. He would pick up a bat and request his father bowl to him.[5] In 1998, the West Delhi Cricket Academy was created. In May, his father'\n",
            "page_content='In May, his father arranged for him to meet Rajkumar Sharma.[6] Upon the suggestion of their neighbours, Kohli's father considered enrolling his son in a professional cricket academy, as they'\n",
            "page_content='academy, as they believed his ability merited more than gully cricket.[7] He was unable to secure a place in the U-14 Delhi team, due to extraneous factors. His father reportedly received offers to'\n",
            "page_content='received offers to relocate his son to influential clubs, which would ensure his selection, but he declined the proposals. Kohli eventually found his way into the U-15 team.[8] He received training'\n",
            "page_content='received training at the academy and participated in matches at the Sumeet Dogra Academy located at Vasundhara Enclave.[9] In pursuit of furthering his cricketing career, he transferred to Saviour'\n",
            "page_content='to Saviour Convent School during his ninth-grade education.[7] On 18 December 2006, his father died due to a cerebral attack.[10] As per his mother, Kohli's demeanour shifted noticeably after his'\n",
            "page_content='after his father's death. He took on cricket with newfound seriousness, prioritizing playing time and dedicating himself fully to the sport.[7] Kohli's family resided in Meera Bagh, Paschim Vihar'\n",
            "page_content='Bagh, Paschim Vihar until the year 2015, after which they relocated to Gurgaon.[11]'\n"
          ]
        }
      ]
    },
    {
      "cell_type": "markdown",
      "source": [
        "We can use custom logic to split the text into different chunks when we need special rules (code blocks, headings, tables), tight control, or token-aware limits without extra abstractions.\n",
        "\n"
      ],
      "metadata": {
        "id": "-WTp77p_Y97Z"
      }
    },
    {
      "cell_type": "markdown",
      "source": [
        "## Vector Embedding"
      ],
      "metadata": {
        "id": "BUs7C0mvYRmO"
      }
    },
    {
      "cell_type": "markdown",
      "source": [
        "Lets create embedding for each text"
      ],
      "metadata": {
        "id": "sQh8B-eqYYex"
      }
    },
    {
      "cell_type": "code",
      "source": [
        "from langchain_openai import OpenAIEmbeddings\n",
        "import os\n",
        "from langchain_community.vectorstores import DeepLake\n",
        "# from langchain-deeplake import DeeplakeVectorStore"
      ],
      "metadata": {
        "id": "Ho2zcauOYYT_"
      },
      "execution_count": 23,
      "outputs": []
    },
    {
      "cell_type": "code",
      "source": [
        "os.environ[\"OPENAI_API_KEY\"] = \"\"\n",
        "os.environ[\"ACTIVELOOP_TOKEN\"] = \"\""
      ],
      "metadata": {
        "id": "WlRaIL33YB_f"
      },
      "execution_count": 42,
      "outputs": []
    },
    {
      "cell_type": "markdown",
      "source": [],
      "metadata": {
        "id": "Iko9u__il0_g"
      }
    },
    {
      "cell_type": "code",
      "source": [
        "embeddings = OpenAIEmbeddings(model=\"text-embedding-ada-002\")"
      ],
      "metadata": {
        "id": "BF2IYhpNZll7"
      },
      "execution_count": 43,
      "outputs": []
    },
    {
      "cell_type": "code",
      "source": [
        "active_loop_org_id = \"\"\n",
        "dataset_name = \"virat_kohli_childhood\""
      ],
      "metadata": {
        "id": "LJAglh-LZsqZ"
      },
      "execution_count": 44,
      "outputs": []
    },
    {
      "cell_type": "code",
      "source": [
        "dataset_path = f\"hub://{active_loop_org_id}/{dataset_name}\""
      ],
      "metadata": {
        "id": "lbqRFvk_cdRj"
      },
      "execution_count": 45,
      "outputs": []
    },
    {
      "cell_type": "code",
      "source": [
        "db = DeepLake(dataset_path=dataset_path, embedding=embeddings)\n"
      ],
      "metadata": {
        "colab": {
          "base_uri": "https://localhost:8080/"
        },
        "id": "maJ1DppabsW_",
        "outputId": "ecacf442-dba8-4097-a229-33a21f0c30db"
      },
      "execution_count": 46,
      "outputs": [
        {
          "output_type": "stream",
          "name": "stdout",
          "text": [
            "Deep Lake Dataset in hub://sarshadev/virat_kohli_childhood already exists, loading from the storage\n"
          ]
        }
      ]
    },
    {
      "cell_type": "code",
      "source": [
        "db.add_documents(doc_rec_split)"
      ],
      "metadata": {
        "colab": {
          "base_uri": "https://localhost:8080/"
        },
        "id": "P3ddr3A_cqqd",
        "outputId": "69682ab0-a3ce-4029-abf5-5bfc00be8275"
      },
      "execution_count": 47,
      "outputs": [
        {
          "output_type": "stream",
          "name": "stderr",
          "text": [
            "Creating 10 embeddings in 1 batches of size 10:: 100%|██████████| 1/1 [00:07<00:00,  7.82s/it]"
          ]
        },
        {
          "output_type": "stream",
          "name": "stdout",
          "text": [
            "Dataset(path='hub://sarshadev/virat_kohli_childhood', tensors=['embedding', 'id', 'metadata', 'text'])\n",
            "\n",
            "  tensor      htype      shape      dtype  compression\n",
            "  -------    -------    -------    -------  ------- \n",
            " embedding  embedding  (10, 1536)  float32   None   \n",
            "    id        text      (10, 1)      str     None   \n",
            " metadata     json      (10, 1)      str     None   \n",
            "   text       text      (10, 1)      str     None   \n"
          ]
        },
        {
          "output_type": "stream",
          "name": "stderr",
          "text": [
            "\n"
          ]
        },
        {
          "output_type": "execute_result",
          "data": {
            "text/plain": [
              "['e5ce06e4-9173-11f0-b280-0242ac1c000c',\n",
              " 'e5ce1652-9173-11f0-b280-0242ac1c000c',\n",
              " 'e5ce20d4-9173-11f0-b280-0242ac1c000c',\n",
              " 'e5ce2278-9173-11f0-b280-0242ac1c000c',\n",
              " 'e5ce2318-9173-11f0-b280-0242ac1c000c',\n",
              " 'e5ce23a4-9173-11f0-b280-0242ac1c000c',\n",
              " 'e5ce2426-9173-11f0-b280-0242ac1c000c',\n",
              " 'e5ce24bc-9173-11f0-b280-0242ac1c000c',\n",
              " 'e5ce2548-9173-11f0-b280-0242ac1c000c',\n",
              " 'e5ce25ca-9173-11f0-b280-0242ac1c000c']"
            ]
          },
          "metadata": {},
          "execution_count": 47
        }
      ]
    },
    {
      "cell_type": "code",
      "source": [
        "retriever = db.as_retriever()"
      ],
      "metadata": {
        "id": "JoMAsZnrgQqX"
      },
      "execution_count": 48,
      "outputs": []
    },
    {
      "cell_type": "code",
      "source": [
        "from langchain.chains import RetrievalQA"
      ],
      "metadata": {
        "id": "NhcwSijUk_Qk"
      },
      "execution_count": 49,
      "outputs": []
    },
    {
      "cell_type": "code",
      "source": [
        "from langchain.llms import OpenAI"
      ],
      "metadata": {
        "id": "-rJrxcB7lDLx"
      },
      "execution_count": 50,
      "outputs": []
    },
    {
      "cell_type": "code",
      "source": [
        "qa_chain = RetrievalQA.from_chain_type(llm=OpenAI(), chain_type=\"stuff\", retriever=retriever)"
      ],
      "metadata": {
        "colab": {
          "base_uri": "https://localhost:8080/"
        },
        "id": "IlohTMWhlG8Y",
        "outputId": "132e12d6-f576-4735-d6c1-1f8be102c5b6"
      },
      "execution_count": 51,
      "outputs": [
        {
          "output_type": "stream",
          "name": "stderr",
          "text": [
            "/tmp/ipython-input-1767917201.py:1: LangChainDeprecationWarning: The class `OpenAI` was deprecated in LangChain 0.0.10 and will be removed in 1.0. An updated version of the class exists in the :class:`~langchain-openai package and should be used instead. To use it run `pip install -U :class:`~langchain-openai` and import as `from :class:`~langchain_openai import OpenAI``.\n",
            "  qa_chain = RetrievalQA.from_chain_type(llm=OpenAI(), chain_type=\"stuff\", retriever=retriever)\n"
          ]
        }
      ]
    },
    {
      "cell_type": "code",
      "source": [
        "Query = \"when did virat kohli born in and where did he resided and when did west delhi academy created\""
      ],
      "metadata": {
        "id": "GJcKff0ClK4f"
      },
      "execution_count": 55,
      "outputs": []
    },
    {
      "cell_type": "code",
      "source": [
        "qa_chain.run(Query)"
      ],
      "metadata": {
        "colab": {
          "base_uri": "https://localhost:8080/",
          "height": 53
        },
        "id": "9GP8Elt7lUnl",
        "outputId": "003128c8-602d-42b9-ae0c-f703acbe8e17"
      },
      "execution_count": 56,
      "outputs": [
        {
          "output_type": "execute_result",
          "data": {
            "text/plain": [
              "' Virat Kohli was born on 5 November 1988 in Delhi, and his family resided in Meera Bagh, Paschim Vihar. The West Delhi Cricket Academy was created in 1998.'"
            ],
            "application/vnd.google.colaboratory.intrinsic+json": {
              "type": "string"
            }
          },
          "metadata": {},
          "execution_count": 56
        }
      ]
    },
    {
      "cell_type": "code",
      "source": [],
      "metadata": {
        "id": "ITbFCJkVlY-7"
      },
      "execution_count": null,
      "outputs": []
    }
  ]
}